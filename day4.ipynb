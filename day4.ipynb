{
  "nbformat": 4,
  "nbformat_minor": 0,
  "metadata": {
    "colab": {
      "name": "day4.ipynb",
      "provenance": [],
      "authorship_tag": "ABX9TyNyzBF4JuSobC/6VtSt+rdC",
      "include_colab_link": true
    },
    "kernelspec": {
      "display_name": "Python 3",
      "name": "python3"
    }
  },
  "cells": [
    {
      "cell_type": "markdown",
      "metadata": {
        "id": "view-in-github",
        "colab_type": "text"
      },
      "source": [
        "<a href=\"https://colab.research.google.com/github/abul1586/abul/blob/master/day4.ipynb\" target=\"_parent\"><img src=\"https://colab.research.google.com/assets/colab-badge.svg\" alt=\"Open In Colab\"/></a>"
      ]
    },
    {
      "cell_type": "code",
      "metadata": {
        "id": "u7-v5a0E4Y8Z"
      },
      "source": [
        "def swap_case(s):\r\n",
        "  char=''\r\n",
        "  for i in s:\r\n",
        "    if (i.isupper()==True):\r\n",
        "      char += i.lower()\r\n",
        "    elif (i.islower()==True):\r\n",
        "      char += i.upper()\r\n",
        "    else:\r\n",
        "      char += i\r\n",
        "\r\n",
        "  return char"
      ],
      "execution_count": null,
      "outputs": []
    },
    {
      "cell_type": "code",
      "metadata": {
        "colab": {
          "base_uri": "https://localhost:8080/",
          "height": 35
        },
        "id": "quI9RU5m6x_9",
        "outputId": "1515357d-2601-497e-9a06-1fcc427be8a1"
      },
      "source": [
        "swap_case('Python 2')"
      ],
      "execution_count": null,
      "outputs": [
        {
          "output_type": "execute_result",
          "data": {
            "application/vnd.google.colaboratory.intrinsic+json": {
              "type": "string"
            },
            "text/plain": [
              "'pYTHON 2'"
            ]
          },
          "metadata": {
            "tags": []
          },
          "execution_count": 5
        }
      ]
    },
    {
      "cell_type": "code",
      "metadata": {
        "id": "pHKkufUvKWxV"
      },
      "source": [
        "def split_and_join(line):\r\n",
        "    a = line.split(\" \")\r\n",
        "    a = \"-\".join(a)\r\n",
        "    # write your code here\r\n",
        "    return a"
      ],
      "execution_count": null,
      "outputs": []
    },
    {
      "cell_type": "code",
      "metadata": {
        "id": "Yb4vNwQqKesY"
      },
      "source": [
        "def print_full_name(a, b):\r\n",
        "    print(\"Hello\"+' '+a+' '+b+\"! You just delved into python.\")\r\n"
      ],
      "execution_count": null,
      "outputs": []
    },
    {
      "cell_type": "code",
      "metadata": {
        "id": "8-k0KGip66BO"
      },
      "source": [
        " string = \"abracadabra\"\r\n",
        "l = list(string)\r\n",
        "l[5] = 'k'\r\n",
        "string = ''.join(l)\r\n",
        "print string"
      ],
      "execution_count": null,
      "outputs": []
    },
    {
      "cell_type": "code",
      "metadata": {
        "id": "Ql2EKcPFKoCe"
      },
      "source": [
        "def count_substring(string, sub_string):\r\n",
        "    count = 0\r\n",
        "    for i in range(len(string)-len(sub_string)+1):\r\n",
        "        if (string[i:i+len(sub_string)] == sub_string):\r\n",
        "            count += 1\r\n",
        "    return count\r\n"
      ],
      "execution_count": null,
      "outputs": []
    },
    {
      "cell_type": "code",
      "metadata": {
        "id": "1YLC9e7y9rG2"
      },
      "source": [
        "def mutate_string(string, position, character):\r\n",
        "  l=list(string)\r\n",
        "  l[position]=character\r\n",
        "  modified_string=''.join(l)\r\n",
        "  return modified_string"
      ],
      "execution_count": null,
      "outputs": []
    },
    {
      "cell_type": "code",
      "metadata": {
        "colab": {
          "base_uri": "https://localhost:8080/",
          "height": 35
        },
        "id": "VwQ9ldn6-GVH",
        "outputId": "495da785-1616-42a3-a145-c5dc3a687aff"
      },
      "source": [
        "mutate_string('abracadabra',5,'k')"
      ],
      "execution_count": null,
      "outputs": [
        {
          "output_type": "execute_result",
          "data": {
            "application/vnd.google.colaboratory.intrinsic+json": {
              "type": "string"
            },
            "text/plain": [
              "'abrackdabra'"
            ]
          },
          "metadata": {
            "tags": []
          },
          "execution_count": 7
        }
      ]
    },
    {
      "cell_type": "code",
      "metadata": {
        "colab": {
          "base_uri": "https://localhost:8080/"
        },
        "id": "v3HeiBUG-QAT",
        "outputId": "f7362350-543b-4c4f-aaec-e478617e0053"
      },
      "source": [
        "s='qA2'\r\n",
        "print(s.isalnum())\r\n",
        "print(s.isalpha())\r\n",
        "print(s.isdigit())\r\n",
        "print(s.islower())\r\n",
        "print(s.isupper())"
      ],
      "execution_count": null,
      "outputs": [
        {
          "output_type": "stream",
          "text": [
            "True\n",
            "False\n",
            "False\n",
            "False\n",
            "False\n"
          ],
          "name": "stdout"
        }
      ]
    },
    {
      "cell_type": "code",
      "metadata": {
        "id": "EPW3-ImRDhzQ"
      },
      "source": [
        "def fun1(s):\r\n",
        "    for i in range(len(s)):\r\n",
        "        if(s[i].isalnum()):\r\n",
        "            return True;\r\n",
        "            break;\r\n",
        "    return False;\r\n",
        "        \r\n",
        "def fun2(s):\r\n",
        "    for i in range(len(s)):\r\n",
        "        if(s[i].isalpha()):\r\n",
        "            return True;\r\n",
        "            break;\r\n",
        "    return False;\r\n",
        "\r\n",
        "def fun3(s):\r\n",
        "    for i in range(len(s)):\r\n",
        "        if(s[i].isdigit()):\r\n",
        "            return True;\r\n",
        "            break;\r\n",
        "    return False;\r\n",
        "\r\n",
        "def fun4(s):\r\n",
        "    for i in range(len(s)):\r\n",
        "        if(s[i].islower()):\r\n",
        "            return True;\r\n",
        "            break;\r\n",
        "    return False; \r\n",
        "     \r\n",
        "def fun5(s):\r\n",
        "    for i in range(len(s)):\r\n",
        "        if(s[i].isupper()):\r\n",
        "            return True;\r\n",
        "            break;\r\n",
        "    return False;\r\n",
        "\r\n",
        "    \r\n",
        "if __name__ == '__main__':\r\n",
        "    s = input()\r\n",
        "    \r\n",
        "    \r\n",
        "    flagalphanum = fun1(s)\r\n",
        "    alphabetical = fun2(s)\r\n",
        "    digits = fun3(s)\r\n",
        "    lowercase = fun4(s)\r\n",
        "    uppercase = fun5(s)\r\n",
        "    print(flagalphanum)\r\n",
        "    print(alphabetical)\r\n",
        "    print(digits)\r\n",
        "    print(lowercase)\r\n",
        "    print(uppercase)"
      ],
      "execution_count": null,
      "outputs": []
    },
    {
      "cell_type": "code",
      "metadata": {
        "colab": {
          "background_save": true
        },
        "id": "pG5SL3IPKFFy",
        "outputId": "a3c79ebc-6d79-42b0-937b-562cd70d5bc4"
      },
      "source": [
        "N, M = map(int, input().split())\r\n",
        "for i in range(1, N, 2):\r\n",
        "    print(str('.|.' * i).center(M, '-'))\r\n",
        "print('WELCOME'.center(M, '-'))\r\n",
        "for i in range(N-2, -1, -2):\r\n",
        "    print(str('.|.' * i).center(M, '-'))"
      ],
      "execution_count": null,
      "outputs": [
        {
          "output_type": "error",
          "ename": "KeyboardInterrupt",
          "evalue": "ignored",
          "traceback": [
            "\u001b[0;31m---------------------------------------------------------------------------\u001b[0m",
            "\u001b[0;31mKeyboardInterrupt\u001b[0m                         Traceback (most recent call last)",
            "\u001b[0;32m/usr/local/lib/python3.6/dist-packages/ipykernel/kernelbase.py\u001b[0m in \u001b[0;36m_input_request\u001b[0;34m(self, prompt, ident, parent, password)\u001b[0m\n\u001b[1;32m    728\u001b[0m             \u001b[0;32mtry\u001b[0m\u001b[0;34m:\u001b[0m\u001b[0;34m\u001b[0m\u001b[0;34m\u001b[0m\u001b[0m\n\u001b[0;32m--> 729\u001b[0;31m                 \u001b[0mident\u001b[0m\u001b[0;34m,\u001b[0m \u001b[0mreply\u001b[0m \u001b[0;34m=\u001b[0m \u001b[0mself\u001b[0m\u001b[0;34m.\u001b[0m\u001b[0msession\u001b[0m\u001b[0;34m.\u001b[0m\u001b[0mrecv\u001b[0m\u001b[0;34m(\u001b[0m\u001b[0mself\u001b[0m\u001b[0;34m.\u001b[0m\u001b[0mstdin_socket\u001b[0m\u001b[0;34m,\u001b[0m \u001b[0;36m0\u001b[0m\u001b[0;34m)\u001b[0m\u001b[0;34m\u001b[0m\u001b[0;34m\u001b[0m\u001b[0m\n\u001b[0m\u001b[1;32m    730\u001b[0m             \u001b[0;32mexcept\u001b[0m \u001b[0mException\u001b[0m\u001b[0;34m:\u001b[0m\u001b[0;34m\u001b[0m\u001b[0;34m\u001b[0m\u001b[0m\n",
            "\u001b[0;32m/usr/local/lib/python3.6/dist-packages/jupyter_client/session.py\u001b[0m in \u001b[0;36mrecv\u001b[0;34m(self, socket, mode, content, copy)\u001b[0m\n\u001b[1;32m    802\u001b[0m         \u001b[0;32mtry\u001b[0m\u001b[0;34m:\u001b[0m\u001b[0;34m\u001b[0m\u001b[0;34m\u001b[0m\u001b[0m\n\u001b[0;32m--> 803\u001b[0;31m             \u001b[0mmsg_list\u001b[0m \u001b[0;34m=\u001b[0m \u001b[0msocket\u001b[0m\u001b[0;34m.\u001b[0m\u001b[0mrecv_multipart\u001b[0m\u001b[0;34m(\u001b[0m\u001b[0mmode\u001b[0m\u001b[0;34m,\u001b[0m \u001b[0mcopy\u001b[0m\u001b[0;34m=\u001b[0m\u001b[0mcopy\u001b[0m\u001b[0;34m)\u001b[0m\u001b[0;34m\u001b[0m\u001b[0;34m\u001b[0m\u001b[0m\n\u001b[0m\u001b[1;32m    804\u001b[0m         \u001b[0;32mexcept\u001b[0m \u001b[0mzmq\u001b[0m\u001b[0;34m.\u001b[0m\u001b[0mZMQError\u001b[0m \u001b[0;32mas\u001b[0m \u001b[0me\u001b[0m\u001b[0;34m:\u001b[0m\u001b[0;34m\u001b[0m\u001b[0;34m\u001b[0m\u001b[0m\n",
            "\u001b[0;32m/usr/local/lib/python3.6/dist-packages/zmq/sugar/socket.py\u001b[0m in \u001b[0;36mrecv_multipart\u001b[0;34m(self, flags, copy, track)\u001b[0m\n\u001b[1;32m    565\u001b[0m         \"\"\"\n\u001b[0;32m--> 566\u001b[0;31m         \u001b[0mparts\u001b[0m \u001b[0;34m=\u001b[0m \u001b[0;34m[\u001b[0m\u001b[0mself\u001b[0m\u001b[0;34m.\u001b[0m\u001b[0mrecv\u001b[0m\u001b[0;34m(\u001b[0m\u001b[0mflags\u001b[0m\u001b[0;34m,\u001b[0m \u001b[0mcopy\u001b[0m\u001b[0;34m=\u001b[0m\u001b[0mcopy\u001b[0m\u001b[0;34m,\u001b[0m \u001b[0mtrack\u001b[0m\u001b[0;34m=\u001b[0m\u001b[0mtrack\u001b[0m\u001b[0;34m)\u001b[0m\u001b[0;34m]\u001b[0m\u001b[0;34m\u001b[0m\u001b[0;34m\u001b[0m\u001b[0m\n\u001b[0m\u001b[1;32m    567\u001b[0m         \u001b[0;31m# have first part already, only loop while more to receive\u001b[0m\u001b[0;34m\u001b[0m\u001b[0;34m\u001b[0m\u001b[0;34m\u001b[0m\u001b[0m\n",
            "\u001b[0;32mzmq/backend/cython/socket.pyx\u001b[0m in \u001b[0;36mzmq.backend.cython.socket.Socket.recv\u001b[0;34m()\u001b[0m\n",
            "\u001b[0;32mzmq/backend/cython/socket.pyx\u001b[0m in \u001b[0;36mzmq.backend.cython.socket.Socket.recv\u001b[0;34m()\u001b[0m\n",
            "\u001b[0;32mzmq/backend/cython/socket.pyx\u001b[0m in \u001b[0;36mzmq.backend.cython.socket._recv_copy\u001b[0;34m()\u001b[0m\n",
            "\u001b[0;32m/usr/local/lib/python3.6/dist-packages/zmq/backend/cython/checkrc.pxd\u001b[0m in \u001b[0;36mzmq.backend.cython.checkrc._check_rc\u001b[0;34m()\u001b[0m\n",
            "\u001b[0;31mKeyboardInterrupt\u001b[0m: ",
            "\nDuring handling of the above exception, another exception occurred:\n",
            "\u001b[0;31mKeyboardInterrupt\u001b[0m                         Traceback (most recent call last)",
            "\u001b[0;32m<ipython-input-11-bf78543de22e>\u001b[0m in \u001b[0;36m<module>\u001b[0;34m()\u001b[0m\n\u001b[0;32m----> 1\u001b[0;31m \u001b[0mN\u001b[0m\u001b[0;34m,\u001b[0m \u001b[0mM\u001b[0m \u001b[0;34m=\u001b[0m \u001b[0mmap\u001b[0m\u001b[0;34m(\u001b[0m\u001b[0mint\u001b[0m\u001b[0;34m,\u001b[0m \u001b[0minput\u001b[0m\u001b[0;34m(\u001b[0m\u001b[0;34m)\u001b[0m\u001b[0;34m.\u001b[0m\u001b[0msplit\u001b[0m\u001b[0;34m(\u001b[0m\u001b[0;34m)\u001b[0m\u001b[0;34m)\u001b[0m\u001b[0;34m\u001b[0m\u001b[0;34m\u001b[0m\u001b[0m\n\u001b[0m\u001b[1;32m      2\u001b[0m \u001b[0;32mfor\u001b[0m \u001b[0mi\u001b[0m \u001b[0;32min\u001b[0m \u001b[0mrange\u001b[0m\u001b[0;34m(\u001b[0m\u001b[0;36m1\u001b[0m\u001b[0;34m,\u001b[0m \u001b[0mN\u001b[0m\u001b[0;34m,\u001b[0m \u001b[0;36m2\u001b[0m\u001b[0;34m)\u001b[0m\u001b[0;34m:\u001b[0m\u001b[0;34m\u001b[0m\u001b[0;34m\u001b[0m\u001b[0m\n\u001b[1;32m      3\u001b[0m     \u001b[0mprint\u001b[0m\u001b[0;34m(\u001b[0m\u001b[0mstr\u001b[0m\u001b[0;34m(\u001b[0m\u001b[0;34m'.|.'\u001b[0m \u001b[0;34m*\u001b[0m \u001b[0mi\u001b[0m\u001b[0;34m)\u001b[0m\u001b[0;34m.\u001b[0m\u001b[0mcenter\u001b[0m\u001b[0;34m(\u001b[0m\u001b[0mM\u001b[0m\u001b[0;34m,\u001b[0m \u001b[0;34m'-'\u001b[0m\u001b[0;34m)\u001b[0m\u001b[0;34m)\u001b[0m\u001b[0;34m\u001b[0m\u001b[0;34m\u001b[0m\u001b[0m\n\u001b[1;32m      4\u001b[0m \u001b[0mprint\u001b[0m\u001b[0;34m(\u001b[0m\u001b[0;34m'WELCOME'\u001b[0m\u001b[0;34m.\u001b[0m\u001b[0mcenter\u001b[0m\u001b[0;34m(\u001b[0m\u001b[0mM\u001b[0m\u001b[0;34m,\u001b[0m \u001b[0;34m'-'\u001b[0m\u001b[0;34m)\u001b[0m\u001b[0;34m)\u001b[0m\u001b[0;34m\u001b[0m\u001b[0;34m\u001b[0m\u001b[0m\n\u001b[1;32m      5\u001b[0m \u001b[0;32mfor\u001b[0m \u001b[0mi\u001b[0m \u001b[0;32min\u001b[0m \u001b[0mrange\u001b[0m\u001b[0;34m(\u001b[0m\u001b[0mN\u001b[0m\u001b[0;34m-\u001b[0m\u001b[0;36m2\u001b[0m\u001b[0;34m,\u001b[0m \u001b[0;34m-\u001b[0m\u001b[0;36m1\u001b[0m\u001b[0;34m,\u001b[0m \u001b[0;34m-\u001b[0m\u001b[0;36m2\u001b[0m\u001b[0;34m)\u001b[0m\u001b[0;34m:\u001b[0m\u001b[0;34m\u001b[0m\u001b[0;34m\u001b[0m\u001b[0m\n",
            "\u001b[0;32m/usr/local/lib/python3.6/dist-packages/ipykernel/kernelbase.py\u001b[0m in \u001b[0;36mraw_input\u001b[0;34m(self, prompt)\u001b[0m\n\u001b[1;32m    702\u001b[0m             \u001b[0mself\u001b[0m\u001b[0;34m.\u001b[0m\u001b[0m_parent_ident\u001b[0m\u001b[0;34m,\u001b[0m\u001b[0;34m\u001b[0m\u001b[0;34m\u001b[0m\u001b[0m\n\u001b[1;32m    703\u001b[0m             \u001b[0mself\u001b[0m\u001b[0;34m.\u001b[0m\u001b[0m_parent_header\u001b[0m\u001b[0;34m,\u001b[0m\u001b[0;34m\u001b[0m\u001b[0;34m\u001b[0m\u001b[0m\n\u001b[0;32m--> 704\u001b[0;31m             \u001b[0mpassword\u001b[0m\u001b[0;34m=\u001b[0m\u001b[0;32mFalse\u001b[0m\u001b[0;34m,\u001b[0m\u001b[0;34m\u001b[0m\u001b[0;34m\u001b[0m\u001b[0m\n\u001b[0m\u001b[1;32m    705\u001b[0m         )\n\u001b[1;32m    706\u001b[0m \u001b[0;34m\u001b[0m\u001b[0m\n",
            "\u001b[0;32m/usr/local/lib/python3.6/dist-packages/ipykernel/kernelbase.py\u001b[0m in \u001b[0;36m_input_request\u001b[0;34m(self, prompt, ident, parent, password)\u001b[0m\n\u001b[1;32m    732\u001b[0m             \u001b[0;32mexcept\u001b[0m \u001b[0mKeyboardInterrupt\u001b[0m\u001b[0;34m:\u001b[0m\u001b[0;34m\u001b[0m\u001b[0;34m\u001b[0m\u001b[0m\n\u001b[1;32m    733\u001b[0m                 \u001b[0;31m# re-raise KeyboardInterrupt, to truncate traceback\u001b[0m\u001b[0;34m\u001b[0m\u001b[0;34m\u001b[0m\u001b[0;34m\u001b[0m\u001b[0m\n\u001b[0;32m--> 734\u001b[0;31m                 \u001b[0;32mraise\u001b[0m \u001b[0mKeyboardInterrupt\u001b[0m\u001b[0;34m\u001b[0m\u001b[0;34m\u001b[0m\u001b[0m\n\u001b[0m\u001b[1;32m    735\u001b[0m             \u001b[0;32melse\u001b[0m\u001b[0;34m:\u001b[0m\u001b[0;34m\u001b[0m\u001b[0;34m\u001b[0m\u001b[0m\n\u001b[1;32m    736\u001b[0m                 \u001b[0;32mbreak\u001b[0m\u001b[0;34m\u001b[0m\u001b[0;34m\u001b[0m\u001b[0m\n",
            "\u001b[0;31mKeyboardInterrupt\u001b[0m: "
          ]
        }
      ]
    },
    {
      "cell_type": "code",
      "metadata": {
        "id": "ya3KHCODLGP1"
      },
      "source": [
        "#Replace all ______ with rjust, ljust or center. \r\n",
        "\r\n",
        "thickness = int(input()) #This must be an odd number\r\n",
        "c = 'H'\r\n",
        "\r\n",
        "#Top Cone\r\n",
        "for i in range(thickness):\r\n",
        "    print((c*i).rjust(thickness-1)+c+(c*i).ljust(thickness-1))\r\n",
        "\r\n",
        "#Top Pillars\r\n",
        "for i in range(thickness+1):\r\n",
        "    print((c*thickness).center(thickness*2)+(c*thickness).center           (thickness*6))\r\n",
        "\r\n",
        "#Middle Belt\r\n",
        "for i in range((thickness+1)//2):\r\n",
        "    print((c*thickness*5).center(thickness*6))    \r\n",
        "\r\n",
        "#Bottom Pillars\r\n",
        "for i in range(thickness+1):\r\n",
        "    print((c*thickness).center(thickness*2)+(c*thickness).center            (thickness*6))    \r\n",
        "\r\n",
        "#Bottom Cone\r\n",
        "for i in range(thickness):\r\n",
        "    print(((c*(thickness-i-1)).rjust(thickness)+c+(c*(thickness-i-1))     .ljust(thickness)).rjust(thickness*6))\r\n"
      ],
      "execution_count": null,
      "outputs": []
    },
    {
      "cell_type": "code",
      "metadata": {
        "id": "oYtSa8N3K4Op"
      },
      "source": [
        "def wrap(string, max_width):\r\n",
        "    return textwrap.fill(string,max_width)"
      ],
      "execution_count": null,
      "outputs": []
    },
    {
      "cell_type": "code",
      "metadata": {
        "id": "B78SbHZ8K5mO"
      },
      "source": [
        "def print_formatted(number):\r\n",
        "    # your code goes here\r\n",
        "    l1 = len(bin(number)[2:])\r\n",
        "   \r\n",
        "    for i in range(1,number+1):\r\n",
        "        print(str(i).rjust(l1,' '),end=\" \")\r\n",
        "        print(oct(i)[2:].rjust(l1,' '),end=\" \")\r\n",
        "        print(((hex(i)[2:]).upper()).rjust(l1,' '),end=\" \")\r\n",
        "        print(bin(i)[2:].rjust(l1,' '),end=\" \")\r\n",
        "        print(\"\")\r\n"
      ],
      "execution_count": null,
      "outputs": []
    },
    {
      "cell_type": "code",
      "metadata": {
        "id": "hnWZ4rT_K5QH"
      },
      "source": [
        "def print_rangoli(size):\r\n",
        "    width  = size*4-3\r\n",
        "    string = ''\r\n",
        "\r\n",
        "    for i in range(1,size+1):\r\n",
        "        for j in range(0,i):\r\n",
        "            string += chr(96+size-j)\r\n",
        "            if len(string) < width :\r\n",
        "                string += '-'\r\n",
        "        for k in range(i-1,0,-1):    \r\n",
        "            string += chr(97+size-k)\r\n",
        "            if len(string) < width :\r\n",
        "                string += '-'\r\n",
        "        print(string.center(width,'-'))\r\n",
        "        string = ''\r\n",
        "\r\n",
        "    for i in range(size-1,0,-1):\r\n",
        "        string = ''\r\n",
        "        for j in range(0,i):\r\n",
        "            string += chr(96+size-j)\r\n",
        "            if len(string) < width :\r\n",
        "                string += '-'\r\n",
        "        for k in range(i-1,0,-1):\r\n",
        "            string += chr(97+size-k)\r\n",
        "            if len(string) < width :\r\n",
        "                string += '-'\r\n",
        "        print(string.center(width,'-'))\r\n",
        "\r\n"
      ],
      "execution_count": null,
      "outputs": []
    },
    {
      "cell_type": "code",
      "metadata": {
        "id": "fNXI-3YRK5NX"
      },
      "source": [
        "\r\n",
        "\r\n",
        "def solve(s):\r\n",
        "    for i in s.split():\r\n",
        "        s = s.replace(i,i.capitalize())\r\n",
        "    return s\r\n"
      ],
      "execution_count": null,
      "outputs": []
    },
    {
      "cell_type": "code",
      "metadata": {
        "id": "qJxBeFFdKGPx"
      },
      "source": [
        "def minion_game(string):\r\n",
        "    # your code goes here\r\n",
        "    player1 = 0;\r\n",
        "    player2 = 0;\r\n",
        "    str_len = len(string)\r\n",
        "    for i in range(str_len):\r\n",
        "        if s[i] in \"AEIOU\":\r\n",
        "            player1 += (str_len)-i\r\n",
        "        else :\r\n",
        "            player2 += (str_len)-i\r\n",
        "    \r\n",
        "    if player1 > player2:\r\n",
        "        print(\"Kevin\", player1)\r\n",
        "    elif player1 < player2:\r\n",
        "        print(\"Stuart\",player2)\r\n",
        "    elif player1 == player2:\r\n",
        "        print(\"Draw\")\r\n",
        "    else :\r\n",
        "        print(\"Draw\")    \r\n",
        "\r\n"
      ],
      "execution_count": null,
      "outputs": []
    },
    {
      "cell_type": "code",
      "metadata": {
        "id": "nFXHEPAXLacK"
      },
      "source": [
        "from collections import OrderedDict\r\n",
        "def merge_the_tools(string, k):\r\n",
        "    # your code goes here\r\n",
        "    strlen = len(string)\r\n",
        "    for i in range(0,strlen,k):\r\n",
        "        print(''.join(OrderedDict.fromkeys(string[i:i + k])))    \r\n",
        "\r\n"
      ],
      "execution_count": null,
      "outputs": []
    },
    {
      "cell_type": "code",
      "metadata": {
        "id": "X-UfyXBmLaXq"
      },
      "source": [
        ""
      ],
      "execution_count": null,
      "outputs": []
    }
  ]
}