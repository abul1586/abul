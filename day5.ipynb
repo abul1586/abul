{
 "cells": [
  {
   "cell_type": "markdown",
   "metadata": {},
   "source": [
    "### 1.Detect Floating Point Number"
   ]
  },
  {
   "cell_type": "code",
   "execution_count": 1,
   "metadata": {},
   "outputs": [],
   "source": [
    "import re"
   ]
  },
  {
   "cell_type": "markdown",
   "metadata": {},
   "source": [
    "\\d\tMost engines: one digit\n",
    "from 0 to 9\tfile_\\d\\d\tfile_25\n",
    "\\d\t.NET, Python 3: one Unicode digit in any script\tfile_\\d\\d\tfile_9੩\n",
    "\\w\tMost engines: \"word character\": ASCII letter, digit or underscore\t\\w-\\w\\w\\w\tA-b_1\n",
    "\\w\t.Python 3: \"word character\": Unicode letter, ideogram, digit, or underscore\t\\w-\\w\\w\\w\t字-ま_۳\n",
    "\\w\t.NET: \"word character\": Unicode letter, ideogram, digit, or connector\t\\w-\\w\\w\\w\t字-ま‿۳\n",
    "\\s\tMost engines: \"whitespace character\": space, tab, newline, carriage return, vertical tab\ta\\sb\\sc\ta b\n",
    "c\n",
    "\\s\t.NET, Python 3, JavaScript: \"whitespace character\": any Unicode separator\ta\\sb\\sc\ta b\n",
    "c\n",
    "\\D\tOne character that is not a digit as defined by your engine's \\d\t\\D\\D\\D\tABC\n",
    "\\W\tOne character that is not a word character as defined by your engine's \\w\t\\W\\W\\W\\W\\W\t*-+=)\n",
    "\\S\tOne character that is not a whitespace character as defined by your engine's \\s\t\\S\\S\\S\\S\tYoyo"
   ]
  },
  {
   "cell_type": "markdown",
   "metadata": {},
   "source": [
    "+\tOne or more\tVersion \\w-\\w+\tVersion A-b1_1\n",
    "{3}\tExactly three times\t\\D{3}\tABC\n",
    "{2,4}\tTwo to four times\t\\d{2,4}\t156\n",
    "{3,}\tThree or more times\t\\w{3,}\tregex_tutorial\n",
    "*\tZero or more times\tA*B*C*\tAAACC\n",
    "?\tOnce or none\tplurals?\tplural"
   ]
  },
  {
   "cell_type": "markdown",
   "metadata": {},
   "source": [
    ".\tAny character except line break\ta.c\tabc\n",
    ".\tAny character except line break\t.*\twhatever, man.\n",
    "\\.\tA period (special character: needs to be escaped by a \\)\ta\\.c\ta.c\n",
    "\\\tEscapes a special character\t\\.\\*\\+\\?    \\$\\^\\/\\\\\t.*+?    $^/\\\n",
    "\\\tEscapes a special character\t\\[\\{\\(\\)\\}\\]\t[{()}]"
   ]
  },
  {
   "cell_type": "code",
   "execution_count": null,
   "metadata": {},
   "outputs": [],
   "source": [
    "|\tAlternation / OR operand\t22|33\t33\n",
    "( … )\tCapturing group\tA(nt|pple)\tApple (captures \"pple\")\n",
    "\\1\tContents of Group 1\tr(\\w)g\\1x\tregex\n",
    "\\2\tContents of Group 2\t(\\d\\d)\\+(\\d\\d)=\\2\\+\\1\t12+65=65+12\n",
    "(?: … )\tNon-capturing group\tA(?:nt|pple)\tApple"
   ]
  },
  {
   "cell_type": "markdown",
   "metadata": {},
   "source": [
    "\n",
    "Character   Legend                     Example                        Sample Match\n",
    "  \\t         Tab\t                  T\\t\\w{2}\t                         T     ab\n",
    "  \\r\t    Carriage return character\tsee below\t\n",
    "  \\n\t    Line feed character\t        see below\t\n",
    " \\r\\n\t  Line separator on Windows\t    AB\\r\\nCD\t                            AB \n",
    "                                                                                CD\n",
    "  \\N\t  Perl, PCRE (C, PHP, R…): one character that is not a line break\t \\N+\tABC\n",
    "\\h\tPerl, PCRE (C, PHP, R…), Java: one horizontal whitespace character: tab or Unicode space separator\t\t\n",
    "\\H\tOne character that is not a horizontal whitespace\t\t\n",
    "\\v\t.NET, JavaScript, Python, Ruby: vertical tab\t\t\n",
    "\\v\tPerl, PCRE (C, PHP, R…), Java: one vertical whitespace character: line feed, carriage return, vertical tab, form feed, paragraph or line separator\t\t\n",
    "\\V\tPerl, PCRE (C, PHP, R…), Java: any character that is not a vertical whitespace\t\t\n",
    "\\R\tPerl, PCRE (C, PHP, R…), Java: one line break (carriage return + line feed pair, and all the characters matched by \\v)\t\t"
   ]
  },
  {
   "cell_type": "code",
   "execution_count": 7,
   "metadata": {},
   "outputs": [
    {
     "name": "stdout",
     "output_type": "stream",
     "text": [
      "4\n",
      "4.0o0\n",
      "False\n",
      "+2.0\n",
      "True\n",
      "-3.0878\n",
      "True\n",
      "something random\n",
      "False\n"
     ]
    }
   ],
   "source": [
    "n = int(input())\n",
    "for i in range(n):\n",
    "    s = input()\n",
    "    print(bool(re.match(r'^[-+]?[0-9]*\\.[0-9]+$', s)))"
   ]
  },
  {
   "cell_type": "code",
   "execution_count": 9,
   "metadata": {},
   "outputs": [
    {
     "name": "stdout",
     "output_type": "stream",
     "text": [
      "2\n",
      "ab\n",
      "+9.0\n",
      "False\n",
      "True\n"
     ]
    }
   ],
   "source": [
    "import re\n",
    "\n",
    "class Main():\n",
    "    def __init__(self):\n",
    "        self.n = int(input())\n",
    "        res=[]\n",
    "        for i in range(self.n):\n",
    "            self.s = input()\n",
    "            res.append(bool(re.match(r'^[-+]?[0-9]*\\.[0-9]+$', self.s)))\n",
    "        for j in res:\n",
    "            print(j)\n",
    "            \n",
    "if __name__ == '__main__':\n",
    "    obj = Main()"
   ]
  },
  {
   "cell_type": "code",
   "execution_count": 10,
   "metadata": {},
   "outputs": [
    {
     "name": "stdout",
     "output_type": "stream",
     "text": [
      "4\n",
      "ab\n",
      "False\n",
      "+1.0\n",
      "True\n",
      "+4.0o0\n",
      "False\n",
      "\"k\n",
      "False\n"
     ]
    }
   ],
   "source": [
    "from re import match, compile\n",
    "\n",
    "pattern = compile('^[-+]?[0-9]*\\.[0-9]+$')\n",
    "for _ in range(int(input())):\n",
    "    print(bool(pattern.match(input())))"
   ]
  },
  {
   "cell_type": "code",
   "execution_count": 14,
   "metadata": {},
   "outputs": [
    {
     "name": "stdout",
     "output_type": "stream",
     "text": [
      "4\n",
      "+9.0\n",
      "True\n",
      "4.0o0\n",
      "False\n",
      "av\n",
      "False\n",
      "'\n",
      "False\n"
     ]
    }
   ],
   "source": [
    "import re\n",
    "for i in range(int(input())):\n",
    "    k = input()\n",
    "    print(bool(re.match(r'^[+-]?\\d*?\\.{1}\\d+$',k)))"
   ]
  },
  {
   "cell_type": "markdown",
   "metadata": {},
   "source": [
    "### 2.Re.split()"
   ]
  },
  {
   "cell_type": "code",
   "execution_count": 17,
   "metadata": {},
   "outputs": [
    {
     "name": "stdout",
     "output_type": "stream",
     "text": [
      "100,000,000.000\n",
      "100\n",
      "000\n",
      "000\n",
      "000\n"
     ]
    }
   ],
   "source": [
    "import re\n",
    "\n",
    "regex_pattern = r'[.,]'\n",
    "\n",
    "print('\\n'.join(re.split(regex_pattern, input())))"
   ]
  },
  {
   "cell_type": "code",
   "execution_count": 47,
   "metadata": {},
   "outputs": [
    {
     "name": "stdout",
     "output_type": "stream",
     "text": [
      "abu\n"
     ]
    }
   ],
   "source": [
    "import re\n",
    "m='abul'\n",
    "res=re.search(r'([a-zA-Z0-9])\\1', m.strip())\n",
    "print(res.group(1) if res else -1)"
   ]
  },
  {
   "cell_type": "code",
   "execution_count": 49,
   "metadata": {},
   "outputs": [
    {
     "data": {
      "text/plain": [
       "['abu']"
      ]
     },
     "execution_count": 49,
     "metadata": {},
     "output_type": "execute_result"
    }
   ],
   "source": [
    "re.findall(r'([a-zA-Z0-9]{3})',m)"
   ]
  },
  {
   "cell_type": "code",
   "execution_count": 32,
   "metadata": {},
   "outputs": [
    {
     "ename": "AttributeError",
     "evalue": "'NoneType' object has no attribute 'group'",
     "output_type": "error",
     "traceback": [
      "\u001b[1;31m---------------------------------------------------------------------------\u001b[0m",
      "\u001b[1;31mAttributeError\u001b[0m                            Traceback (most recent call last)",
      "\u001b[1;32m<ipython-input-32-76110f5bec0e>\u001b[0m in \u001b[0;36m<module>\u001b[1;34m\u001b[0m\n\u001b[1;32m----> 1\u001b[1;33m \u001b[0mres\u001b[0m\u001b[1;33m.\u001b[0m\u001b[0mgroup\u001b[0m\u001b[1;33m(\u001b[0m\u001b[1;36m1\u001b[0m\u001b[1;33m)\u001b[0m\u001b[1;33m\u001b[0m\u001b[1;33m\u001b[0m\u001b[0m\n\u001b[0m",
      "\u001b[1;31mAttributeError\u001b[0m: 'NoneType' object has no attribute 'group'"
     ]
    }
   ],
   "source": [
    "res.group(1)"
   ]
  },
  {
   "cell_type": "code",
   "execution_count": 50,
   "metadata": {
    "scrolled": true
   },
   "outputs": [
    {
     "name": "stdout",
     "output_type": "stream",
     "text": [
      "rabcdeefgyYhFjkIoomnpOeorteeeeet\n",
      "ee\n",
      "Ioo\n",
      "Oeo\n",
      "eeeee\n"
     ]
    }
   ],
   "source": [
    "vowels = 'aeiou'\n",
    "consonants = 'qwrtypsdfghjklzxcvbnm'\n",
    "match = re.findall(r'(?<=[' + consonants + '])([' + vowels + ']{2,})(?<=[' + consonants + '])', input(), flags=re.I)\n",
    "print('\\n'.join(match or ['-1']))"
   ]
  },
  {
   "cell_type": "code",
   "execution_count": 63,
   "metadata": {},
   "outputs": [],
   "source": [
    "import re\n",
    "m = re.search(r'(?<=[\\w+{2}])','aadaaa')"
   ]
  },
  {
   "cell_type": "code",
   "execution_count": 64,
   "metadata": {},
   "outputs": [
    {
     "data": {
      "text/plain": [
       "1"
      ]
     },
     "execution_count": 64,
     "metadata": {},
     "output_type": "execute_result"
    }
   ],
   "source": [
    "m.end()"
   ]
  },
  {
   "cell_type": "code",
   "execution_count": 65,
   "metadata": {},
   "outputs": [
    {
     "data": {
      "text/plain": [
       "1"
      ]
     },
     "execution_count": 65,
     "metadata": {},
     "output_type": "execute_result"
    }
   ],
   "source": [
    "m.start()"
   ]
  },
  {
   "cell_type": "code",
   "execution_count": 66,
   "metadata": {},
   "outputs": [
    {
     "data": {
      "text/plain": [
       "()"
      ]
     },
     "execution_count": 66,
     "metadata": {},
     "output_type": "execute_result"
    }
   ],
   "source": [
    "m.groups()"
   ]
  },
  {
   "cell_type": "code",
   "execution_count": 67,
   "metadata": {},
   "outputs": [],
   "source": [
    "m = re.search('b(c?)', 'cba')"
   ]
  },
  {
   "cell_type": "code",
   "execution_count": 68,
   "metadata": {},
   "outputs": [
    {
     "data": {
      "text/plain": [
       "2"
      ]
     },
     "execution_count": 68,
     "metadata": {},
     "output_type": "execute_result"
    }
   ],
   "source": [
    "m.end()"
   ]
  },
  {
   "cell_type": "code",
   "execution_count": 71,
   "metadata": {},
   "outputs": [
    {
     "data": {
      "text/plain": [
       "('',)"
      ]
     },
     "execution_count": 71,
     "metadata": {},
     "output_type": "execute_result"
    }
   ],
   "source": [
    "m.groups()"
   ]
  },
  {
   "cell_type": "code",
   "execution_count": 72,
   "metadata": {},
   "outputs": [
    {
     "name": "stdout",
     "output_type": "stream",
     "text": [
      "aaadaa\n",
      "aa\n",
      "(0, 1)\n",
      "(1, 2)\n",
      "(4, 5)\n"
     ]
    }
   ],
   "source": [
    "import re\n",
    "\n",
    "string = input()\n",
    "substring = input()\n",
    "\n",
    "pattern = re.compile(substring)\n",
    "match = pattern.search(string)\n",
    "if not match: print('(-1, -1)')\n",
    "while match:\n",
    "    print('({0}, {1})'.format(match.start(), match.end() - 1))\n",
    "    match = pattern.search(string, match.start() + 1)"
   ]
  },
  {
   "cell_type": "code",
   "execution_count": null,
   "metadata": {},
   "outputs": [],
   "source": [
    "  \n",
    "import re\n",
    "\n",
    "regex_pattern = r'M{0,3}(C[MD]|D?C{0,3})(X[CL]|L?X{0,3})(I[VX]|V?I{0,3})$'\n",
    "\n",
    "print(str(bool(re.match(regex_pattern, input()))))"
   ]
  },
  {
   "cell_type": "code",
   "execution_count": null,
   "metadata": {},
   "outputs": [],
   "source": [
    "  \n",
    "import re\n",
    "\n",
    "[print('YES' if re.match(r'[789]\\d{9}$', input()) else 'NO') for _ in range(int(input()))]"
   ]
  },
  {
   "cell_type": "code",
   "execution_count": null,
   "metadata": {},
   "outputs": [],
   "source": [
    "import re\n",
    "\n",
    "pattern = r'^<[A-Za-z](\\w|-|\\.|_)+@[A-Za-z]+\\.[A-Za-z]{1,3}>$'\n",
    "for _ in range(int(input())):\n",
    "    name, email = input().split(' ')\n",
    "    if re.match(pattern, email):\n",
    "        print(name, email)"
   ]
  },
  {
   "cell_type": "code",
   "execution_count": null,
   "metadata": {},
   "outputs": [],
   "source": [
    "import re\n",
    "\n",
    "for _ in range(int(input())):\n",
    "    matches = re.findall(r':?.(#[0-9a-fA-F]{6}|#[0-9a-fA-F]{3})', input())\n",
    "    if matches:\n",
    "        print(*matches, sep='\\n')"
   ]
  },
  {
   "cell_type": "code",
   "execution_count": null,
   "metadata": {},
   "outputs": [],
   "source": [
    "from html.parser import HTMLParser\n",
    "\n",
    "\n",
    "class MyHTMLParser(HTMLParser):\n",
    "    def handle_starttag(self, tag, attrs):\n",
    "        print ('Start :', tag)\n",
    "        for ele in attrs:\n",
    "            print ('->', ele[0], '>', ele[1])\n",
    "\n",
    "    def handle_endtag(self, tag):\n",
    "        print ('End   :', tag)\n",
    "\n",
    "    def handle_startendtag(self, tag, attrs):\n",
    "        print ('Empty :', tag)\n",
    "        for ele in attrs:\n",
    "            print ('->', ele[0], '>', ele[1])\n",
    "\n",
    "\n",
    "parser = MyHTMLParser()\n",
    "for _ in range(int(input())):\n",
    "    parser.feed(input())"
   ]
  },
  {
   "cell_type": "code",
   "execution_count": null,
   "metadata": {},
   "outputs": [],
   "source": [
    "from html.parser import HTMLParser\n",
    "\n",
    "\n",
    "class MyHTMLParser(HTMLParser):\n",
    "    def handle_comment(self, comment):\n",
    "        if '\\n' in comment:\n",
    "            print('>>> Multi-line Comment')\n",
    "        else:\n",
    "            print('>>> Single-line Comment')\n",
    "\n",
    "        print(comment)\n",
    "\n",
    "    def handle_data(self, data):\n",
    "        if data == '\\n': return\n",
    "        print('>>> Data')\n",
    "        print(data)\n",
    "\n",
    "\n",
    "html = \"\"\n",
    "for i in range(int(input())):\n",
    "    html += input().rstrip()\n",
    "    html += '\\n'\n",
    "\n",
    "parser = MyHTMLParser()\n",
    "parser.feed(html)\n",
    "parser.close()"
   ]
  },
  {
   "cell_type": "code",
   "execution_count": null,
   "metadata": {},
   "outputs": [],
   "source": [
    "from html.parser import HTMLParser\n",
    "\n",
    "\n",
    "class MyHTMLParser(HTMLParser):\n",
    "    def handle_starttag(self, tag, attrs):\n",
    "        print(tag)\n",
    "        [print('-> {} > {}'.format(*attr)) for attr in attrs]\n",
    "\n",
    "\n",
    "html = '\\n'.join([input() for _ in range(int(input()))])\n",
    "parser = MyHTMLParser()\n",
    "parser.feed(html)\n",
    "parser.close()"
   ]
  },
  {
   "cell_type": "code",
   "execution_count": null,
   "metadata": {},
   "outputs": [],
   "source": [
    "import re\n",
    "\n",
    "for _ in range(int(input())):\n",
    "    u = ''.join(sorted(input()))\n",
    "    try:\n",
    "        assert re.search(r'[A-Z]{2}', u)\n",
    "        assert re.search(r'\\d\\d\\d', u)\n",
    "        assert not re.search(r'[^a-zA-Z0-9]', u)\n",
    "        assert not re.search(r'(.)\\1', u)\n",
    "        assert len(u) == 10\n",
    "    except:\n",
    "        print('Invalid')\n",
    "    else:\n",
    "        print('Valid')"
   ]
  },
  {
   "cell_type": "code",
   "execution_count": null,
   "metadata": {},
   "outputs": [],
   "source": [
    "import re\n",
    "\n",
    "pattern = re.compile(\n",
    "    r'^'\n",
    "    r'(?!.*(\\d)(-?\\1){3})'\n",
    "    r'[456]\\d{3}'\n",
    "    r'(?:-?\\d{4}){3}'\n",
    "    r'$')\n",
    "for _ in range(int(input().strip())):\n",
    "    print('Valid' if pattern.search(input().strip()) else 'Invalid')"
   ]
  },
  {
   "cell_type": "code",
   "execution_count": null,
   "metadata": {},
   "outputs": [],
   "source": [
    "import re\n",
    "\n",
    "P = input()\n",
    "\n",
    "regex_integer_in_range = r'^[1-9][\\d]{5}$'  # Do not delete 'r'.\n",
    "regex_alternating_repetitive_digit_pair = r'(\\d)(?=\\d\\1)'  # Do not delete 'r'.\n",
    "\n",
    "print (bool(re.match(regex_integer_in_range, P))\n",
    "       and len(re.findall(regex_alternating_repetitive_digit_pair, P)) < 2)"
   ]
  },
  {
   "cell_type": "code",
   "execution_count": null,
   "metadata": {},
   "outputs": [],
   "source": [
    "import re\n",
    "\n",
    "n, m = map(int, input().split())\n",
    "a, b = [], ''\n",
    "for _ in range(n):\n",
    "    a.append(input())\n",
    "\n",
    "for z in zip(*a):\n",
    "    b += ''.join(z)\n",
    "\n",
    "print(re.sub(r'(?<=\\w)([^\\w]+)(?=\\w)', ' ', b))"
   ]
  },
  {
   "cell_type": "code",
   "execution_count": null,
   "metadata": {},
   "outputs": [],
   "source": []
  }
 ],
 "metadata": {
  "kernelspec": {
   "display_name": "Python 3",
   "language": "python",
   "name": "python3"
  },
  "language_info": {
   "codemirror_mode": {
    "name": "ipython",
    "version": 3
   },
   "file_extension": ".py",
   "mimetype": "text/x-python",
   "name": "python",
   "nbconvert_exporter": "python",
   "pygments_lexer": "ipython3",
   "version": "3.7.3"
  }
 },
 "nbformat": 4,
 "nbformat_minor": 2
}
