{
  "nbformat": 4,
  "nbformat_minor": 0,
  "metadata": {
    "colab": {
      "name": "Untitled4.ipynb",
      "provenance": [],
      "authorship_tag": "ABX9TyOh52lThQ940pEM5jCwgXGD",
      "include_colab_link": true
    },
    "kernelspec": {
      "name": "python3",
      "display_name": "Python 3"
    }
  },
  "cells": [
    {
      "cell_type": "markdown",
      "metadata": {
        "id": "view-in-github",
        "colab_type": "text"
      },
      "source": [
        "<a href=\"https://colab.research.google.com/github/abul1586/abul/blob/master/day2.ipynb\" target=\"_parent\"><img src=\"https://colab.research.google.com/assets/colab-badge.svg\" alt=\"Open In Colab\"/></a>"
      ]
    },
    {
      "cell_type": "code",
      "metadata": {
        "colab": {
          "base_uri": "https://localhost:8080/"
        },
        "id": "oFVrMxQZY5fV",
        "outputId": "e28e8aad-1266-477c-949f-85599abdbde8"
      },
      "source": [
        "    x=1\r\n",
        "    y=1\r\n",
        "    z=1\r\n",
        "    n=2\r\n",
        "    res = [[i, j, k] for i in range(x+1)  \r\n",
        "                     for j in range(y+1) \r\n",
        "                     for k in range(z+1)  if i+j+k!=n] \r\n",
        "    res"
      ],
      "execution_count": 10,
      "outputs": [
        {
          "output_type": "execute_result",
          "data": {
            "text/plain": [
              "[[0, 0, 0], [0, 0, 1], [0, 1, 0], [1, 0, 0], [1, 1, 1]]"
            ]
          },
          "metadata": {
            "tags": []
          },
          "execution_count": 10
        }
      ]
    },
    {
      "cell_type": "code",
      "metadata": {
        "id": "9iH6NZknY8to"
      },
      "source": [
        "[[0, 0, 0], [0, 0, 1], [0, 1, 0], [1, 0, 0], [1, 1, 1]]"
      ],
      "execution_count": null,
      "outputs": []
    },
    {
      "cell_type": "code",
      "metadata": {
        "colab": {
          "base_uri": "https://localhost:8080/",
          "height": 317
        },
        "id": "qbUKRUhdepAF",
        "outputId": "45d78737-f9dd-4896-cc68-a7442148126c"
      },
      "source": [
        "if __name__ == '__main__':\r\n",
        "    students = []\r\n",
        "    for _ in range(int(input())):\r\n",
        "        name = input()\r\n",
        "        score = float(input())\r\n",
        "        students.append([name, score])\r\n",
        "\r\n",
        "    students = sorted(students, key = lambda x: x[1])\r\n",
        "    #print(students)\r\n",
        "    #second_lowest_score = students[1][1]\r\n",
        "    second_lowest_score = sorted(list(set([x[1] for x in students])))[1]\r\n",
        "    desired_students = []\r\n",
        "    for stu in students:\r\n",
        "        if stu[1] == second_lowest_score:\r\n",
        "            desired_students.append(stu[0])\r\n",
        "    print(\"\\n\".join(sorted(desired_students)))\r\n"
      ],
      "execution_count": 27,
      "outputs": [
        {
          "output_type": "stream",
          "text": [
            "2\n",
            "harry \n",
            "50\n",
            "kate\n",
            "50\n"
          ],
          "name": "stdout"
        },
        {
          "output_type": "error",
          "ename": "IndexError",
          "evalue": "ignored",
          "traceback": [
            "\u001b[0;31m---------------------------------------------------------------------------\u001b[0m",
            "\u001b[0;31mIndexError\u001b[0m                                Traceback (most recent call last)",
            "\u001b[0;32m<ipython-input-27-a24a997081fd>\u001b[0m in \u001b[0;36m<module>\u001b[0;34m()\u001b[0m\n\u001b[1;32m      9\u001b[0m     \u001b[0;31m#print(students)\u001b[0m\u001b[0;34m\u001b[0m\u001b[0;34m\u001b[0m\u001b[0;34m\u001b[0m\u001b[0m\n\u001b[1;32m     10\u001b[0m     \u001b[0;31m#second_lowest_score = students[1][1]\u001b[0m\u001b[0;34m\u001b[0m\u001b[0;34m\u001b[0m\u001b[0;34m\u001b[0m\u001b[0m\n\u001b[0;32m---> 11\u001b[0;31m     \u001b[0msecond_lowest_score\u001b[0m \u001b[0;34m=\u001b[0m \u001b[0msorted\u001b[0m\u001b[0;34m(\u001b[0m\u001b[0mlist\u001b[0m\u001b[0;34m(\u001b[0m\u001b[0mset\u001b[0m\u001b[0;34m(\u001b[0m\u001b[0;34m[\u001b[0m\u001b[0mx\u001b[0m\u001b[0;34m[\u001b[0m\u001b[0;36m1\u001b[0m\u001b[0;34m]\u001b[0m \u001b[0;32mfor\u001b[0m \u001b[0mx\u001b[0m \u001b[0;32min\u001b[0m \u001b[0mstudents\u001b[0m\u001b[0;34m]\u001b[0m\u001b[0;34m)\u001b[0m\u001b[0;34m)\u001b[0m\u001b[0;34m)\u001b[0m\u001b[0;34m[\u001b[0m\u001b[0;36m1\u001b[0m\u001b[0;34m]\u001b[0m\u001b[0;34m\u001b[0m\u001b[0;34m\u001b[0m\u001b[0m\n\u001b[0m\u001b[1;32m     12\u001b[0m     \u001b[0mdesired_students\u001b[0m \u001b[0;34m=\u001b[0m \u001b[0;34m[\u001b[0m\u001b[0;34m]\u001b[0m\u001b[0;34m\u001b[0m\u001b[0;34m\u001b[0m\u001b[0m\n\u001b[1;32m     13\u001b[0m     \u001b[0;32mfor\u001b[0m \u001b[0mstu\u001b[0m \u001b[0;32min\u001b[0m \u001b[0mstudents\u001b[0m\u001b[0;34m:\u001b[0m\u001b[0;34m\u001b[0m\u001b[0;34m\u001b[0m\u001b[0m\n",
            "\u001b[0;31mIndexError\u001b[0m: list index out of range"
          ]
        }
      ]
    },
    {
      "cell_type": "code",
      "metadata": {
        "colab": {
          "base_uri": "https://localhost:8080/",
          "height": 35
        },
        "id": "Q32PCMq-esKO",
        "outputId": "9d95a09b-f5e0-4352-a4b5-b2fa6af5d272"
      },
      "source": [
        ".python_students = [['Harry', 37.21], ['Berry', 37.21], ['Tina', 37.2], ['Akriti', 41], ['Harsh', 39]]\r\n",
        "python_students[0][0]"
      ],
      "execution_count": 15,
      "outputs": [
        {
          "output_type": "execute_result",
          "data": {
            "application/vnd.google.colaboratory.intrinsic+json": {
              "type": "string"
            },
            "text/plain": [
              "'Harry'"
            ]
          },
          "metadata": {
            "tags": []
          },
          "execution_count": 15
        }
      ]
    },
    {
      "cell_type": "code",
      "metadata": {
        "colab": {
          "base_uri": "https://localhost:8080/"
        },
        "id": "pi4sR_2Ce49g",
        "outputId": "181ea351-7850-4bc0-92e9-2d3780ce287f"
      },
      "source": [
        "name=[]\r\n",
        "score=[]\r\n",
        "for i in python_students:\r\n",
        "  name.append(i[0])\r\n",
        "  score.append(i[1])\r\n",
        "\r\n",
        "name"
      ],
      "execution_count": 18,
      "outputs": [
        {
          "output_type": "execute_result",
          "data": {
            "text/plain": [
              "['Harry', 'Berry', 'Tina', 'Akriti', 'Harsh']"
            ]
          },
          "metadata": {
            "tags": []
          },
          "execution_count": 18
        }
      ]
    },
    {
      "cell_type": "code",
      "metadata": {
        "colab": {
          "base_uri": "https://localhost:8080/"
        },
        "id": "HKuci8gSfMd8",
        "outputId": "1dcf7b93-8d7f-4ce9-c919-72a031d7a9fb"
      },
      "source": [
        "if __name__ == '__main__':\r\n",
        "    n = int(input())\r\n",
        "    student_marks = {}\r\n",
        "    for _ in range(n):\r\n",
        "        name, *line = input().split()\r\n",
        "        scores = list(map(float, line))\r\n",
        "        student_marks[name] = scores\r\n",
        "    query_name = input()\r\n",
        "    print(\"{0:.2f}\".format(sum(student_marks[query_name])/len(student_marks[query_name])))\r\n",
        "    "
      ],
      "execution_count": 58,
      "outputs": [
        {
          "output_type": "stream",
          "text": [
            "2\n",
            "alpha 25\n",
            "beta 32 23\n",
            "beta\n",
            "27.5\n"
          ],
          "name": "stdout"
        }
      ]
    },
    {
      "cell_type": "code",
      "metadata": {
        "colab": {
          "base_uri": "https://localhost:8080/",
          "height": 52
        },
        "id": "YXuYtqiPjl0S",
        "outputId": "91714dd1-43f4-43aa-a02f-5fb733f5eb95"
      },
      "source": [
        "\r\n",
        "def avg(a):\r\n",
        "    print(\"{0:.2f}\".format(sum(a)/len(a)))\r\n",
        "a=list(map(float, input().split()))\r\n",
        "avg(a)"
      ],
      "execution_count": 86,
      "outputs": [
        {
          "output_type": "stream",
          "text": [
            "1 3 4\n"
          ],
          "name": "stdout"
        },
        {
          "output_type": "execute_result",
          "data": {
            "application/vnd.google.colaboratory.intrinsic+json": {
              "type": "string"
            },
            "text/plain": [
              "'2.67'"
            ]
          },
          "metadata": {
            "tags": []
          },
          "execution_count": 86
        }
      ]
    },
    {
      "cell_type": "code",
      "metadata": {
        "colab": {
          "base_uri": "https://localhost:8080/"
        },
        "id": "3zJ_Gyr5i2s9",
        "outputId": "738deda7-6828-4dd3-9d6d-358daacd4efa"
      },
      "source": [
        "query_name = 'alpha'\r\n",
        "print(\"{0:.2f}\".format(sum(student_marks[query_name])/len(student_marks[query_name])))\r\n",
        " "
      ],
      "execution_count": 64,
      "outputs": [
        {
          "output_type": "stream",
          "text": [
            "25.00\n"
          ],
          "name": "stdout"
        }
      ]
    },
    {
      "cell_type": "code",
      "metadata": {
        "colab": {
          "base_uri": "https://localhost:8080/"
        },
        "id": "1HTNOTaokJpL",
        "outputId": "e839d202-3d21-4cdc-9781-867816ea4890"
      },
      "source": [
        "sum(student_marks[query_name])/len(student_marks[query_name])"
      ],
      "execution_count": 57,
      "outputs": [
        {
          "output_type": "execute_result",
          "data": {
            "text/plain": [
              "53.333333333333336"
            ]
          },
          "metadata": {
            "tags": []
          },
          "execution_count": 57
        }
      ]
    },
    {
      "cell_type": "code",
      "metadata": {
        "colab": {
          "base_uri": "https://localhost:8080/",
          "height": 215
        },
        "id": "jSp_I1WTk0cZ",
        "outputId": "8f16d228-53e8-46f3-d6e4-357b7636c761"
      },
      "source": [
        "# Lists in Python - Hacker Rank Solution\r\n",
        "if __name__ == '__main__':\r\n",
        "    N = int(input())\r\n",
        "    # Lists in Python - Hacker Rank Solution START\r\n",
        "    Output = [];\r\n",
        "    for i in range(0,N):\r\n",
        "        ip = input().split();\r\n",
        "        if ip[0] == \"print\":\r\n",
        "            print(Output)\r\n",
        "        elif ip[0] == \"insert\":\r\n",
        "            Output.insert(int(ip[1]),int(ip[2]))\r\n",
        "        elif ip[0] == \"remove\":\r\n",
        "            Output.remove(int(ip[1]))\r\n",
        "        elif ip[0] == \"pop\":\r\n",
        "            Output.pop();\r\n",
        "        elif ip[0] == \"append\":\r\n",
        "            Output.append(int(ip[1]))\r\n",
        "        elif ip[0] == \"sort\":\r\n",
        "            Output.sort();\r\n",
        "        else:\r\n",
        "            Output.reverse();"
      ],
      "execution_count": 65,
      "outputs": [
        {
          "output_type": "stream",
          "text": [
            "insert\n"
          ],
          "name": "stdout"
        },
        {
          "output_type": "error",
          "ename": "AttributeError",
          "evalue": "ignored",
          "traceback": [
            "\u001b[0;31m---------------------------------------------------------------------------\u001b[0m",
            "\u001b[0;31mAttributeError\u001b[0m                            Traceback (most recent call last)",
            "\u001b[0;32m<ipython-input-65-39481cf9fd26>\u001b[0m in \u001b[0;36m<module>\u001b[0;34m()\u001b[0m\n\u001b[1;32m      1\u001b[0m \u001b[0mList\u001b[0m\u001b[0;34m=\u001b[0m\u001b[0;34m[\u001b[0m\u001b[0;34m]\u001b[0m\u001b[0;34m\u001b[0m\u001b[0;34m\u001b[0m\u001b[0m\n\u001b[1;32m      2\u001b[0m \u001b[0ma\u001b[0m\u001b[0;34m=\u001b[0m\u001b[0minput\u001b[0m\u001b[0;34m(\u001b[0m\u001b[0;34m)\u001b[0m\u001b[0;34m\u001b[0m\u001b[0;34m\u001b[0m\u001b[0m\n\u001b[0;32m----> 3\u001b[0;31m \u001b[0mList\u001b[0m\u001b[0;34m.\u001b[0m\u001b[0ma\u001b[0m\u001b[0;34m\u001b[0m\u001b[0;34m\u001b[0m\u001b[0m\n\u001b[0m",
            "\u001b[0;31mAttributeError\u001b[0m: 'list' object has no attribute 'a'"
          ]
        }
      ]
    },
    {
      "cell_type": "code",
      "metadata": {
        "id": "lAsVe1nvtS1y"
      },
      "source": [
        "# No idea\r\n",
        "n, m = (int(i) for i in input().split())\r\n",
        "l = map(int, input().strip().split(' '))\r\n",
        "a = set(map(int, input().strip().split(' ')))\r\n",
        "b = set(map(int, input().strip().split(' ')))\r\n",
        "result = 0\r\n",
        "for i in l:\r\n",
        "    if i in a:\r\n",
        "        result += 1\r\n",
        "    if i in b:\r\n",
        "        result += -1\r\n",
        "print(result)"
      ],
      "execution_count": null,
      "outputs": []
    },
    {
      "cell_type": "code",
      "metadata": {
        "colab": {
          "base_uri": "https://localhost:8080/"
        },
        "id": "G0vthC46xZlc",
        "outputId": "1890647b-8683-4d90-a1dc-ee7aa931dbaf"
      },
      "source": [
        "s = set('HackerRank')\r\n",
        "s.add('H')\r\n",
        "print(s)"
      ],
      "execution_count": 67,
      "outputs": [
        {
          "output_type": "stream",
          "text": [
            "{'e', 'H', 'a', 'k', 'n', 'R', 'r', 'c'}\n"
          ],
          "name": "stdout"
        }
      ]
    },
    {
      "cell_type": "code",
      "metadata": {
        "id": "5zQBvgaw02Dv"
      },
      "source": [
        "M = int(input())\r\n",
        "mset = set(map(int, input().split()))\r\n",
        "N = int(input())\r\n",
        "nset = set(map(int, input().split()))\r\n",
        "\r\n",
        "mdef = mset.difference(nset)\r\n",
        "ndef = nset.difference(mset)\r\n",
        "\r\n",
        "output = mdef.union(ndef)\r\n",
        "\r\n",
        "for i in sorted(list(output)):\r\n",
        "    print(i)"
      ],
      "execution_count": null,
      "outputs": []
    },
    {
      "cell_type": "code",
      "metadata": {
        "colab": {
          "base_uri": "https://localhost:8080/"
        },
        "id": "0aDmyr0G1JR_",
        "outputId": "2d2eb959-bef9-42f5-e0e4-94cf4d03cef2"
      },
      "source": [
        "x= int(input())\r\n",
        "country =set()\r\n",
        "for i in range(x):\r\n",
        "  country.add(input())\r\n",
        "\r\n",
        "\r\n",
        "print(len(country))"
      ],
      "execution_count": 75,
      "outputs": [
        {
          "output_type": "stream",
          "text": [
            "5\n",
            "uk\n",
            "india\n",
            "france\n",
            "uk\n",
            "pak\n",
            "{'pak', 'france', 'uk', 'india'}\n",
            "{'pak', 'france', 'uk', 'india'}\n",
            "{'pak', 'france', 'uk', 'india'}\n",
            "{'pak', 'france', 'uk', 'india'}\n"
          ],
          "name": "stdout"
        }
      ]
    },
    {
      "cell_type": "code",
      "metadata": {
        "colab": {
          "base_uri": "https://localhost:8080/"
        },
        "id": "WHa7WTUc1bX4",
        "outputId": "a1a60162-6069-4215-fade-9dd308b4afc7"
      },
      "source": [
        "n = int(input())\r\n",
        "s = set(map(int, input().split()))\r\n",
        "num = int(input())\r\n",
        "for i in range(num):\r\n",
        "    ip = input().split()\r\n",
        "    if ip[0]==\"remove\":\r\n",
        "        s.remove(int(ip[1]))\r\n",
        "    elif ip[0]==\"discard\":\r\n",
        "        s.discard(int(ip[1]))\r\n",
        "    else :\r\n",
        "        s.pop()\r\n",
        "print(sum(list(s)))"
      ],
      "execution_count": 78,
      "outputs": [
        {
          "output_type": "stream",
          "text": [
            "9\n",
            "1 2 3 4 5 6 7 8 9\n",
            "10\n",
            "pop\n",
            "remove 9\n",
            "discard 9\n",
            "discard 8\n",
            "remove 7\n",
            "pop\n",
            "discard 6\n",
            "remove 5\n",
            "pop\n",
            "discard 5\n",
            "4\n"
          ],
          "name": "stdout"
        }
      ]
    },
    {
      "cell_type": "code",
      "metadata": {
        "id": "iabhdvyTE2LF"
      },
      "source": [
        "a = int(input())\r\n",
        "set1 = set(input().split());\r\n",
        "\r\n",
        "b = int(input())\r\n",
        "set2 = set(input().split());\r\n",
        "\r\n",
        "set3 = set1.union(set2)\r\n",
        "\r\n",
        "print(len(set3))"
      ],
      "execution_count": null,
      "outputs": []
    },
    {
      "cell_type": "code",
      "metadata": {
        "id": "nGvu5btjFEs9"
      },
      "source": [
        "a = int(input())\r\n",
        "set1 = set(input().split());\r\n",
        "\r\n",
        "b = int(input())\r\n",
        "set2 = set(input().split());\r\n",
        "\r\n",
        "set3 = set1.intersection(set2)\r\n",
        "\r\n",
        "print(len(set3))"
      ],
      "execution_count": null,
      "outputs": []
    },
    {
      "cell_type": "code",
      "metadata": {
        "id": "tOso5wAdFd_x"
      },
      "source": [
        "a = int(input())\r\n",
        "set1 = set(input().split());\r\n",
        "\r\n",
        "b = int(input())\r\n",
        "set2 = set(input().split());\r\n",
        "\r\n",
        "set3 = set1.difference(set2)\r\n",
        "\r\n",
        "print(len(set3))"
      ],
      "execution_count": null,
      "outputs": []
    },
    {
      "cell_type": "code",
      "metadata": {
        "id": "W9ccxs6vFfOx"
      },
      "source": [
        "a = int(input())\r\n",
        "set1 = set(input().split());\r\n",
        "\r\n",
        "b = int(input())\r\n",
        "set2 = set(input().split());\r\n",
        "\r\n",
        "set3 = set1.symmetric_difference(set2)\r\n",
        "\r\n",
        "print(len(set3))"
      ],
      "execution_count": null,
      "outputs": []
    },
    {
      "cell_type": "code",
      "metadata": {
        "id": "iIqE5_EgGTYf"
      },
      "source": [
        "n = int(input())\r\n",
        "a = set(map(int,input().split()))\r\n",
        "N = int(input())\r\n",
        "for i in range(N):\r\n",
        "    cmd = input().split()\r\n",
        "    opt = cmd[0]\r\n",
        "    s = set(map(int,input().split()))\r\n",
        "    if (opt == 'update'):\r\n",
        "        a |= s\r\n",
        "    elif (opt == 'intersection_update'):\r\n",
        "        a &= s\r\n",
        "    elif (opt == 'difference_update'):\r\n",
        "        a -= s\r\n",
        "    elif (opt == 'symmetric_difference_update'):\r\n",
        "        a ^= s\r\n",
        "print(sum(a))"
      ],
      "execution_count": null,
      "outputs": []
    },
    {
      "cell_type": "code",
      "metadata": {
        "colab": {
          "base_uri": "https://localhost:8080/"
        },
        "id": "CJ_rdEv3HrFG",
        "outputId": "3d00a48c-77cc-4eae-8b09-a667b4959896"
      },
      "source": [
        "n=int(input())\r\n",
        "nums=map(int,input().split(\" \"))\r\n",
        "nums=sorted(nums)\r\n",
        "for i in range(1,len(nums)):\r\n",
        "    if i!=len(nums)-1:\r\n",
        "        if nums[i]!=nums[i-1] and nums[i]!=nums[i+1]:\r\n",
        "            print(nums[i])\r\n",
        "            break\r\n",
        "    else:\r\n",
        "        print(nums[i])\r\n",
        "        "
      ],
      "execution_count": 77,
      "outputs": [
        {
          "output_type": "stream",
          "text": [
            "5\n",
            "1 2 3 6 5 4 4 2 5 3 6 1 6 5 3 2 4 1 2 5 1 4 3 6 8 4 3 1 5 6 2\n",
            "8\n"
          ],
          "name": "stdout"
        }
      ]
    },
    {
      "cell_type": "code",
      "metadata": {
        "id": "lubFRCuSHsaU"
      },
      "source": [
        "T = int(input())\r\n",
        "\r\n",
        "for _ in range(T):\r\n",
        "    a = input()\r\n",
        "    A = set(input().split())\r\n",
        "    b = int(input())\r\n",
        "    B = set(input().split())\r\n",
        "    print(A.issubset(B))"
      ],
      "execution_count": null,
      "outputs": []
    }
  ]
}