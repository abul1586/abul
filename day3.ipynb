{
  "nbformat": 4,
  "nbformat_minor": 0,
  "metadata": {
    "colab": {
      "name": "day3.ipynb",
      "provenance": [],
      "authorship_tag": "ABX9TyMbKGgp7K/c1sQ9XYSgTcUE",
      "include_colab_link": true
    },
    "kernelspec": {
      "name": "python3",
      "display_name": "Python 3"
    }
  },
  "cells": [
    {
      "cell_type": "markdown",
      "metadata": {
        "id": "view-in-github",
        "colab_type": "text"
      },
      "source": [
        "<a href=\"https://colab.research.google.com/github/abul1586/abul/blob/master/day3.ipynb\" target=\"_parent\"><img src=\"https://colab.research.google.com/assets/colab-badge.svg\" alt=\"Open In Colab\"/></a>"
      ]
    },
    {
      "cell_type": "code",
      "metadata": {
        "id": "gkNYY-0Cm_KK"
      },
      "source": [
        "import cmath\r\n",
        "z= input()\r\n",
        "print abs(complex(z))\r\n",
        "print cmath.phase(complex(z))"
      ],
      "execution_count": null,
      "outputs": []
    },
    {
      "cell_type": "code",
      "metadata": {
        "colab": {
          "base_uri": "https://localhost:8080/"
        },
        "id": "UHUIYyXUnFvJ",
        "outputId": "5c916309-0530-4b1a-ecff-af67f0eb9eda"
      },
      "source": [
        "import math\r\n",
        "\r\n",
        "AB = int(input())\r\n",
        "BC = int(input())\r\n",
        "\r\n",
        "H = math.sqrt(AB**2 + BC**2)\r\n",
        "H = H/2.0\r\n",
        "adj = BC/2.0\r\n",
        "\r\n",
        "Output = int(round(math.degrees(math.acos(adj/H))))\r\n",
        "\r\n",
        "Output = str(Output)\r\n",
        "\r\n",
        "print(Output+\"°\")"
      ],
      "execution_count": 4,
      "outputs": [
        {
          "output_type": "stream",
          "text": [
            "10\n",
            "10\n",
            "45°\n"
          ],
          "name": "stdout"
        }
      ]
    },
    {
      "cell_type": "code",
      "metadata": {
        "colab": {
          "base_uri": "https://localhost:8080/"
        },
        "id": "i0Osa1_1nb2L",
        "outputId": "0b92feec-e792-49b1-e42b-ef8de94cc67f"
      },
      "source": [
        "int(round(math.degrees(math.acos(adj/H))))"
      ],
      "execution_count": 5,
      "outputs": [
        {
          "output_type": "execute_result",
          "data": {
            "text/plain": [
              "45"
            ]
          },
          "metadata": {
            "tags": []
          },
          "execution_count": 5
        }
      ]
    },
    {
      "cell_type": "code",
      "metadata": {
        "id": "2N1hzqdKpBbG"
      },
      "source": [
        "# -*- coding: utf-8 -*-\r\n",
        "import math\r\n",
        "\r\n",
        "ab = input()\r\n",
        "bc = input()\r\n",
        "\r\n",
        "h = math.sqrt(ab**2 + bc**2)\r\n",
        "h = h / 2.0\r\n",
        "adj = bc / 2.0\r\n",
        "print(str(int(round(math.degrees(math.acos(adj/h))))) + \"°\")"
      ],
      "execution_count": null,
      "outputs": []
    },
    {
      "cell_type": "code",
      "metadata": {
        "colab": {
          "base_uri": "https://localhost:8080/"
        },
        "id": "7VAy0mVOq9m3",
        "outputId": "e365f4f1-c10a-4870-a1e8-9c257612d3cb"
      },
      "source": [
        "for i in range(1,int(input())+1):\r\n",
        "  print(int(((10**i-1)/(9))**2))"
      ],
      "execution_count": 23,
      "outputs": [
        {
          "output_type": "stream",
          "text": [
            "4\n",
            "1\n",
            "22\n",
            "333\n",
            "4444\n"
          ],
          "name": "stdout"
        }
      ]
    },
    {
      "cell_type": "code",
      "metadata": {
        "colab": {
          "base_uri": "https://localhost:8080/"
        },
        "id": "jXZSgGJxr_hw",
        "outputId": "e94b1355-1ed2-43b8-f03e-062120f5e339"
      },
      "source": [
        "111111111*111111111\r\n",
        "(int(((10**i-1)/(9))**2))"
      ],
      "execution_count": 12,
      "outputs": [
        {
          "output_type": "execute_result",
          "data": {
            "text/plain": [
              "12345678987654321"
            ]
          },
          "metadata": {
            "tags": []
          },
          "execution_count": 12
        }
      ]
    },
    {
      "cell_type": "code",
      "metadata": {
        "colab": {
          "base_uri": "https://localhost:8080/"
        },
        "id": "NR_ahsc1szUu",
        "outputId": "c0fc447e-4e55-433e-f5f4-a01755aeda59"
      },
      "source": [
        "a=int(input())\r\n",
        "b=int(input())\r\n",
        "print(int(a/b))\r\n",
        "print(a%b)\r\n",
        "print((int(a/b),a%b))"
      ],
      "execution_count": 14,
      "outputs": [
        {
          "output_type": "stream",
          "text": [
            "177\n",
            "10\n",
            "17\n",
            "7\n",
            "(17, 7)\n"
          ],
          "name": "stdout"
        }
      ]
    },
    {
      "cell_type": "code",
      "metadata": {
        "id": "RTAGfBXvvILn"
      },
      "source": [
        "a=int(input())\r\n",
        "b=int(input())\r\n",
        "m=int(input())\r\n",
        "p=a**b\r\n",
        "print(p)\r\n",
        "print(p%m)"
      ],
      "execution_count": null,
      "outputs": []
    },
    {
      "cell_type": "code",
      "metadata": {
        "id": "F9MtD6Bqvs89"
      },
      "source": [
        "a=int(input())\r\n",
        "b=int(input())\r\n",
        "c=int(input())\r\n",
        "d=int(input())\r\n",
        "print(a**b+c**d)"
      ],
      "execution_count": null,
      "outputs": []
    },
    {
      "cell_type": "code",
      "metadata": {
        "id": "7EJ7tfJfxPnf"
      },
      "source": [
        "for i in range(1,int(input())+1):\r\n",
        "  print(int(((10**i-1)/(9))*i))"
      ],
      "execution_count": null,
      "outputs": []
    }
  ]
}